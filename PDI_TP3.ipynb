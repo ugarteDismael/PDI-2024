{
  "nbformat": 4,
  "nbformat_minor": 0,
  "metadata": {
    "colab": {
      "provenance": [],
      "authorship_tag": "ABX9TyOKfFvbRaYz7+6FKZl1lNw7",
      "include_colab_link": true
    },
    "kernelspec": {
      "name": "python3",
      "display_name": "Python 3"
    },
    "language_info": {
      "name": "python"
    }
  },
  "cells": [
    {
      "cell_type": "markdown",
      "metadata": {
        "id": "view-in-github",
        "colab_type": "text"
      },
      "source": [
        "<a href=\"https://colab.research.google.com/github/ugarteDismael/PDI-2024/blob/main/PDI_TP3.ipynb\" target=\"_parent\"><img src=\"https://colab.research.google.com/assets/colab-badge.svg\" alt=\"Open In Colab\"/></a>"
      ]
    },
    {
      "cell_type": "markdown",
      "source": [
        "tp3"
      ],
      "metadata": {
        "id": "cqWWv79vFdsB"
      }
    },
    {
      "cell_type": "code",
      "execution_count": 54,
      "metadata": {
        "id": "PuMAZZ40_hpM"
      },
      "outputs": [],
      "source": [
        "import imageio.v2 as imageio\n",
        "import numpy as np\n",
        "import matplotlib.pyplot as plt\n",
        "from scipy import signal\n",
        "\n",
        "img = imageio.imread('ovni.png')/255\n",
        "\n",
        "def RGBtoYIQ(img):\n",
        "    yiq = np.zeros(img.shape)\n",
        "    yiq[:,:,0] = np.clip(0.299*img[:,:,0] + 0.587*img[:,:,1] + 0.114*img[:,:,2],0,1) # Luminancia Y\n",
        "    yiq[:,:,1] = np.clip(0.595*img[:,:,0] - 0.274*img[:,:,1] - 0.321*img[:,:,2],-0.5957, 0.5957) # In-phase I\n",
        "    yiq[:,:,2] = np.clip(0.211*img[:,:,0] - 0.523*img[:,:,1] + 0.312*img[:,:,2],-0.5226,0.5226) # Quadrature Q\n",
        "    return yiq\n",
        "yiq = RGBtoYIQ(img)\n",
        "\n",
        "def convolution (image, kernel = np.ones((1,1))):\n",
        "\tconvolved = np.zeros((np.array(image.shape)-np.array(kernel.shape)+1))\n",
        "\tfor x in range(convolved.shape[0]):\n",
        "\t\tfor y in range(convolved.shape[1]):\n",
        "\t\t\tconvolved [x,y] = (image [x:x+kernel.shape[0],y:y+kernel.shape[1]]*kernel).sum()\n",
        "\treturn convolved\n",
        "\n",
        "# Muestra la imagen original y la imagen convolucionada\n",
        "def plot_images(yiq, img_con,titulo_conv):\n",
        "    fig, axs = plt.subplots(1, 2)  # Crear figura 1 f y 2 c de subplots\n",
        "    axs[0].imshow(yiq[:,:,0], cmap='gray')  # Imagen en escala de grises\n",
        "    axs[0].axis('off')  # Desactivar ejes\n",
        "    axs[0].set_title('Original')  # Título de la imagen A\n",
        "    axs[1].imshow(img_con, cmap='gray') # Imagen Convolucionada\n",
        "    axs[1].axis('off')  # Desactivar ejes\n",
        "    axs[1].set_title(titulo_conv)  # Título de la imagen Clam\n",
        "    plt.tight_layout() # Ajustar el espacio entre subplots\n",
        "    plt.show() # Mostrar el conjunto de subplots\n",
        "\n",
        "#BARTLETT\n",
        "def bartlett(s=3):\n",
        "  a = (s+1)//2-np.abs(np.arange(s)-s//2)\n",
        "  k = np.outer(a,a.T)\n",
        "  return k / k.sum()\n",
        "\n",
        "# PASCAL\n",
        "def pascal(s=3):\n",
        "    def pascal_triangle(steps,last_layer = np.array([1])):\n",
        "        if steps==1:\n",
        "            return last_layer\n",
        "        next_layer = np.array([1,*(last_layer[:-1]+last_layer[1:]),1])\n",
        "        return pascal_triangle(steps-1,next_layer)\n",
        "    a = pascal_triangle(s)\n",
        "    k = np.outer(a,a.T)\n",
        "    return k / k.sum()\n",
        "\n",
        "# PASCAL\n",
        "def pascal(s=3):\n",
        "    def pascal_triangle(steps,last_layer = np.array([1])):\n",
        "        if steps==1:\n",
        "            return last_layer\n",
        "        next_layer = np.array([1,*(last_layer[:-1]+last_layer[1:]),1])\n",
        "        return pascal_triangle(steps-1,next_layer)\n",
        "    a = pascal_triangle(s)\n",
        "    k = np.outer(a,a.T)\n",
        "    return k / k.sum()\n",
        "\n",
        "# LAPLACE\n",
        "def laplace(_type=4,normalize=False):\n",
        "    if _type==4:\n",
        "        kernel =  np.array([[0.,-1.,0.],[-1.,4.,-1.],[0.,-1.,0.]])\n",
        "    if _type==8:\n",
        "        kernel =  np.array([[-1.,-1.,-1.],[-1.,8.,-1.],[-1.,-1.,-1.]])\n",
        "    if normalize:\n",
        "        kernel /= np.sum(np.abs(kernel))\n",
        "    return kernel\n",
        "\n",
        "# IDENTITY\n",
        "def identity_kernel(s):\n",
        "    kernel = np.zeros(s)\n",
        "    kernel[s[0]//2,s[1]//2] = 1.\n",
        "    return kernel\n",
        "\n",
        "#HIGH PASS\n",
        "def high_pass(low_pass):\n",
        "    return identity_kernel(low_pass.shape) - low_pass\n",
        "\n",
        "# DOG\n",
        "def dog(size,fs=1,cs=2):\n",
        "    return gauss(size,fs)-gauss(size,cs)\n",
        "\n",
        "# GAUSSIAN BLUR FILTER\n",
        "def gaussian_kernel(size):\n",
        "    kernel = np.zeros((size, size))\n",
        "    sigma = size / 6.0  # Desviación estándar\n",
        "    sum_val = 0  # Suma total para normalizar\n",
        "    # Calcular los valores del kernel\n",
        "    for x in range(size):\n",
        "        for y in range(size):\n",
        "            # Fórmula de la función gaussiana\n",
        "            kernel[x, y] = (1 / (2 * np.pi * sigma**2)) * np.exp(-((x - (size - 1) / 2)**2 + (y - (size - 1) / 2)**2) / (2 * sigma**2))\n",
        "            sum_val += kernel[x, y]\n",
        "    # Normalizar el kernel\n",
        "    kernel /= sum_val\n",
        "    return kernel\n",
        "# Ejemplo de uso\n",
        "#size = 5  # Tamaño del kernel\n",
        "#gaussian_kernel_matrix = gaussian_kernel(size)\n",
        "#print(gaussian_kernel_matrix)\n",
        "\n",
        "\n",
        "# Función para crear un kernel gaussiano\n",
        "def gauss(size, sigma):\n",
        "    ax = np.linspace(-(size // 2), size // 2, size)  # Crea un rango de valores\n",
        "    xx, yy = np.meshgrid(ax, ax)  # Crea una malla 2D\n",
        "    g = np.exp(-(xx**2 + yy**2) / (2 * sigma**2))  # Fórmula gaussiana\n",
        "    return g / g.sum()  # Normaliza el kernel\n",
        "\n",
        "# Función para crear el kernel DoG\n",
        "def dog(size, fs=1, cs=2):\n",
        "    return gauss(size, fs) - gauss(size, cs)\n",
        "\n",
        "# Ejemplo de uso\n",
        "size = 5  # Tamaño del kernel\n",
        "fs = 1    # Desviación estándar del primer filtro gaussiano\n",
        "cs = 2    # Desviación estándar del segundo filtro gaussiano\n",
        "\n",
        "# Generar los kernels\n",
        "gaussian_kernel = gauss(size, fs)\n",
        "dog_kernel = dog(size, fs, cs)\n",
        "\n",
        "# Mostrar los resultados\n",
        "plt.figure(figsize=(10, 4))\n"
      ]
    },
    {
      "cell_type": "markdown",
      "source": [
        "KERNEL 3X3"
      ],
      "metadata": {
        "id": "yUOD6tfhUf3S"
      }
    },
    {
      "cell_type": "code",
      "source": [
        "kernel = np.ones((3,3)) #kernel 3x3\n",
        "kernel/= np.sum(kernel) #valores del kernel divididos por la sumatoria, 9\n",
        "img_con = convolution (yiq[:,:,0], kernel) # convolucion\n",
        "plot_images(yiq, img_con,'Pasabajos: Plano')"
      ],
      "metadata": {
        "id": "xvFGAFxDZ6i4"
      },
      "execution_count": null,
      "outputs": []
    },
    {
      "cell_type": "markdown",
      "source": [
        "KERNEL 5X5"
      ],
      "metadata": {
        "id": "d8bj4pq_YeUt"
      }
    },
    {
      "cell_type": "code",
      "source": [
        "kernel = np.ones((5,5)) #kernel\n",
        "kernel/= np.sum(kernel) #valores del kernel divididos por la sumatoria\n",
        "img_con = convolution (yiq[:,:,0], kernel) # convolucion\n",
        "plot_images(yiq, img_con,'Pasabajos: Plano')"
      ],
      "metadata": {
        "id": "YjkbK8kzYgrc"
      },
      "execution_count": null,
      "outputs": []
    },
    {
      "cell_type": "markdown",
      "source": [
        "KERNEL 7X7"
      ],
      "metadata": {
        "id": "1IVVNiGOYlX8"
      }
    },
    {
      "cell_type": "code",
      "source": [
        "kernel = np.ones((7,7)) #kernel\n",
        "kernel/= np.sum(kernel) #valores del kernel divididos por la sumatoria\n",
        "img_con = convolution (yiq[:,:,0], kernel) # convolucion\n",
        "plot_images(yiq, img_con,'Pasabajos: Plano')"
      ],
      "metadata": {
        "id": "i3rlMQq-Ynqc"
      },
      "execution_count": null,
      "outputs": []
    },
    {
      "cell_type": "markdown",
      "source": [
        "BARTLETT"
      ],
      "metadata": {
        "id": "-nUz8Uu2vLAc"
      }
    },
    {
      "cell_type": "code",
      "source": [
        "kernel = bartlett()\n",
        "img_con = convolution (yiq[:,:,0], kernel) # convolucion\n",
        "plot_images(yiq, img_con,'Bartlett') # comparar imagenes"
      ],
      "metadata": {
        "id": "VNuBIM7CvROs"
      },
      "execution_count": null,
      "outputs": []
    }
  ]
}